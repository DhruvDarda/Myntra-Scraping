{
  "nbformat": 4,
  "nbformat_minor": 0,
  "metadata": {
    "accelerator": "GPU",
    "colab": {
      "name": "Persuasive_NLP_Seq2Seq",
      "provenance": [],
      "collapsed_sections": [],
      "authorship_tag": "ABX9TyOdofT3K2D/CzxA0Qc+QZJK",
      "include_colab_link": true
    },
    "kernelspec": {
      "display_name": "Python 3",
      "name": "python3"
    },
    "language_info": {
      "name": "python"
    }
  },
  "cells": [
    {
      "cell_type": "markdown",
      "metadata": {
        "id": "view-in-github",
        "colab_type": "text"
      },
      "source": [
        "<a href=\"https://colab.research.google.com/github/DhruvDarda/Persuasive-Text-Generation-in-Fashion/blob/main/Persuasive_NLP_Seq2Seq.ipynb\" target=\"_parent\"><img src=\"https://colab.research.google.com/assets/colab-badge.svg\" alt=\"Open In Colab\"/></a>"
      ]
    },
    {
      "cell_type": "markdown",
      "metadata": {
        "id": "MkTSQTvbRBMW"
      },
      "source": [
        "Persuasive text often includes:\n",
        "\n",
        "repeated words,\n",
        "\n",
        "alliterative words,\n",
        "\n",
        "emotional language,\n",
        "\n",
        "a strong argument,\n",
        "\n",
        "rhetorical questions,\n",
        "\n",
        "colourful and eye-catching fonts / capitalised words,\n",
        "\n",
        "humour"
      ]
    },
    {
      "cell_type": "markdown",
      "metadata": {
        "id": "Sbt_ZK6oRWzi"
      },
      "source": [
        "Words with high modality, that is, words that show a high degree of certainty. For example – must, ought to, shall, has to. In comparison to words such as may, might, could and would that have low modality and show less certainty\n",
        "\n",
        "Emotive, descriptive words that appeal to the emotions. For example – wonderful, horrible, cruel, amazing, frightening, perfect\n",
        "\n",
        "A formal voice that is more authoritative and has more power of persuasion\n",
        "\n",
        "Repetition of words or phrases and concepts to push your point of view\n",
        "\n",
        "Connectives that help sequence your argument. For example – Firstly, Secondly\n",
        "\n",
        "Present tense"
      ]
    },
    {
      "cell_type": "code",
      "metadata": {
        "id": "hPLjN8S_GziU"
      },
      "source": [
        "import re\n",
        "import os\n",
        "import pickle\n",
        "import random\n",
        "from torch.autograd import Variable\n",
        "import numpy as np\n",
        "import pandas as pd\n",
        "import torch\n",
        "import torch.optim\n",
        "import torch.nn as nn\n",
        "from torch import Tensor \n",
        "import torch.nn.functional as F\n",
        "from sklearn.model_selection import train_test_split"
      ],
      "execution_count": null,
      "outputs": []
    },
    {
      "cell_type": "code",
      "metadata": {
        "colab": {
          "base_uri": "https://localhost:8080/"
        },
        "id": "FXO1hxuxzWeG",
        "outputId": "d83bb95e-27c4-44c0-9c6e-15af97892c74"
      },
      "source": [
        "from google.colab import drive\n",
        "from torch.utils.tensorboard import SummaryWriter\n",
        "drive.mount('/content/gdrive/')\n",
        "\n",
        "%cd /content/gdrive/My Drive/'NLP PROJECT'\n",
        "writer = SummaryWriter('Transformer/seq2seq')"
      ],
      "execution_count": null,
      "outputs": [
        {
          "name": "stdout",
          "output_type": "stream",
          "text": [
            "Drive already mounted at /content/gdrive/; to attempt to forcibly remount, call drive.mount(\"/content/gdrive/\", force_remount=True).\n",
            "/content/gdrive/My Drive/NLP PROJECT\n"
          ]
        }
      ]
    },
    {
      "cell_type": "code",
      "metadata": {
        "colab": {
          "base_uri": "https://localhost:8080/"
        },
        "id": "5ZynxaIQ9iko",
        "outputId": "5373e000-6142-4204-a0b5-7389f19a852b"
      },
      "source": [
        "%ls"
      ],
      "execution_count": null,
      "outputs": [
        {
          "name": "stdout",
          "output_type": "stream",
          "text": [
            "Ethnic_Wear_Data.csv   my_checkpoint.pth.tar     \u001b[0m\u001b[01;34mruns\u001b[0m/       \u001b[01;34mTransformer\u001b[0m/\n",
            "Ethnic_wear_final.csv  my_checkpointseq.pth.tar  test.csv    tut1-model.pt\n",
            "inputs_final1.txt      outputs_final.txt         test.json\n",
            "inputs_large.txt       outputs_large.txt         train.csv\n",
            "inputs.txt             outputs.txt               train.json\n"
          ]
        }
      ]
    },
    {
      "cell_type": "code",
      "metadata": {
        "id": "gFLqd0_UTP86"
      },
      "source": [
        "inputs = open('inputs_large.txt').read().split('\\n')\n",
        "outputs = open('outputs_large.txt').read().split('\\n')\n",
        "inputs = inputs[:min(len(inputs), len(outputs))]\n",
        "outputs = outputs[:min(len(inputs), len(outputs))]"
      ],
      "execution_count": null,
      "outputs": []
    },
    {
      "cell_type": "code",
      "metadata": {
        "id": "Om8_cN-aMfta"
      },
      "source": [
        "device = torch.device('cuda' if torch.cuda.is_available() else 'cpu')"
      ],
      "execution_count": null,
      "outputs": []
    },
    {
      "cell_type": "markdown",
      "metadata": {
        "id": "OISZgLKMZ6NW"
      },
      "source": [
        "###First Implementation"
      ]
    },
    {
      "cell_type": "code",
      "metadata": {
        "colab": {
          "base_uri": "https://localhost:8080/"
        },
        "id": "kwYiCaB-dTk4",
        "outputId": "608b6dc5-6399-4fc6-9568-56d330a42803"
      },
      "source": [
        "raw_data = {'inputs':[line for line in inputs],\n",
        "            'outputs': [line for line in outputs]}\n",
        "df = pd.DataFrame(raw_data, columns = ['inputs', 'outputs'])\n",
        "print(df.head())\n",
        "\n",
        "train, test = train_test_split(df, test_size = 0.2)\n",
        "\n",
        "train.to_json('train.json', orient='records', lines = True)\n",
        "test.to_json('test.json', orient='records', lines = True)"
      ],
      "execution_count": null,
      "outputs": [
        {
          "name": "stdout",
          "output_type": "stream",
          "text": [
            "                                              inputs                                            outputs\n",
            "0  Women Navy Blue & amp ; Rust Orange Printed St...  This fashionable kurta from anayna will take y...\n",
            "1  Green & amp ; Gold - Toned Silk Blend Embroide...  This fashionable kurta from anayna will take y...\n",
            "2  Women Green & amp ; Pink Embroidered Straight ...  Comfortable and stylish, this kurta from Vbuyz...\n",
            "3  Dusty Pink Embroidered Semi - Stitched Lehenga...  Comfortable and stylish, this kurta from Vbuyz...\n",
            "4  Women Pink Ethnic Motifs Yoke Design Regular G...  Comfortable and stylish, this kurta from Vbuyz...\n"
          ]
        }
      ]
    },
    {
      "cell_type": "code",
      "metadata": {
        "id": "8TTO-DX-fV-D"
      },
      "source": [
        "#!pip install -U torchtext==0.8.0\n",
        "import spacy\n",
        "from sklearn.model_selection import train_test_split\n",
        "from torchtext.legacy.data import Field, BucketIterator, TabularDataset"
      ],
      "execution_count": null,
      "outputs": []
    },
    {
      "cell_type": "code",
      "metadata": {
        "id": "mK-boxXuf3sM"
      },
      "source": [
        "eng = spacy.load('en')\n",
        "def tokenize_text(text):\n",
        "  return [tok.text for tok in eng.tokenizer(text)]"
      ],
      "execution_count": null,
      "outputs": []
    },
    {
      "cell_type": "code",
      "metadata": {
        "id": "WhprntZ3nsJU"
      },
      "source": [
        "inp_fields = Field(use_vocab = True, tokenize = tokenize_text, lower = False, fix_length=100, init_token=\"<sos>\", eos_token=\"<eos>\")\n",
        "out_fields = Field(use_vocab = True, tokenize = tokenize_text, lower = False, fix_length=100, init_token=\"<sos>\", eos_token=\"<eos>\")"
      ],
      "execution_count": null,
      "outputs": []
    },
    {
      "cell_type": "code",
      "metadata": {
        "id": "P-c5f6Ho1wn8"
      },
      "source": [
        "train_data, test_data = TabularDataset.splits(path='', train = 'train.json', test = 'test.json', format='json', fields = {'inputs':('text', inp_fields), 'outputs':('label', out_fields)})"
      ],
      "execution_count": null,
      "outputs": []
    },
    {
      "cell_type": "code",
      "metadata": {
        "id": "fuTWQhyQ68Bv"
      },
      "source": [
        "inp_fields.build_vocab(train_data, max_size = df.size, min_freq = 2)\n",
        "out_fields.build_vocab(test_data, max_size = df.size, min_freq = 2)"
      ],
      "execution_count": null,
      "outputs": []
    },
    {
      "cell_type": "code",
      "metadata": {
        "id": "6YjaJCE3Klqr"
      },
      "source": [
        "train_itr, test_itr = BucketIterator.splits((train_data, test_data), batch_size=32, device = device, sort_key = lambda x: len(x.text),\n",
        "    sort_within_batch=True)\n"
      ],
      "execution_count": null,
      "outputs": []
    },
    {
      "cell_type": "code",
      "metadata": {
        "id": "Gc_IkBYNK75X"
      },
      "source": [
        "import torch.nn as nn\n",
        "import torch.nn.functional as F\n",
        "from torch.optim import Adam\n",
        "class ModelParam(object):\n",
        "    def __init__(self, param_dict: dict = dict()):\n",
        "        self.input_size = param_dict.get('input_size', 0)\n",
        "        self.vocab_size = param_dict.get('vocab_size')\n",
        "        self.embedding_dim = param_dict.get('embedding_dim', 300)\n",
        "        self.target_dim = param_dict.get('target_dim', 2)\n",
        "        \n",
        "class MyModel(nn.Module):\n",
        "    def __init__(self, model_param: ModelParam):\n",
        "        super().__init__()\n",
        "        self.embedding = nn.Embedding(\n",
        "            model_param.vocab_size, \n",
        "            model_param.embedding_dim\n",
        "        )\n",
        "        self.lin = nn.LSTM(\n",
        "            model_param.input_size * model_param.embedding_dim, \n",
        "            model_param.target_dim\n",
        "        )\n",
        "        \n",
        "    def forward(self, x):\n",
        "        features = self.embedding(x).view(x.size()[0], -1)\n",
        "        features = F.relu(features)\n",
        "        features = self.lin(features)\n",
        "        return features"
      ],
      "execution_count": null,
      "outputs": []
    },
    {
      "cell_type": "code",
      "metadata": {
        "id": "3ziseZlBnEQc"
      },
      "source": [
        "class Encoder(nn.Module):\n",
        "    def __init__(self, input_dim, emb_dim, hid_dim, n_layers, dropout):\n",
        "        super().__init__()\n",
        "        \n",
        "        self.hid_dim = hid_dim\n",
        "        self.n_layers = n_layers\n",
        "        \n",
        "        self.embedding = nn.Embedding(input_dim, emb_dim)\n",
        "        \n",
        "        self.rnn = nn.LSTM(emb_dim, hid_dim, n_layers, dropout = dropout)\n",
        "        \n",
        "        self.dropout = nn.Dropout(dropout)\n",
        "        \n",
        "    def forward(self, src):\n",
        "        \n",
        "        #src = [src len, batch size]\n",
        "        #print(src.shape)\n",
        "        \n",
        "        embedded = self.dropout(self.embedding(src))\n",
        "\n",
        "        #print(embedded.shape)\n",
        "        \n",
        "        #embedded = embedded.reshape(1, embedded.shape[0], embedded.shape[1])\n",
        "        \n",
        "        #print(embedded.unsqueeze(-1).shape)\n",
        "        #embedded = [src len, batch size, emb dim]\n",
        "        \n",
        "        outputs, (hidden, cell) = self.rnn(embedded)\n",
        "        \n",
        "        #outputs = [src len, batch size, hid dim * n directions]\n",
        "        #hidden = [n layers * n directions, batch size, hid dim]\n",
        "        #cell = [n layers * n directions, batch size, hid dim]\n",
        "        \n",
        "        #outputs are always from the top hidden layer\n",
        "        \n",
        "        return hidden, cell"
      ],
      "execution_count": null,
      "outputs": []
    },
    {
      "cell_type": "code",
      "metadata": {
        "id": "tNXPr_JYnLqU"
      },
      "source": [
        "class Decoder(nn.Module):\n",
        "    def __init__(self, output_dim, emb_dim, hid_dim, n_layers, dropout):\n",
        "        super().__init__()\n",
        "        \n",
        "        self.output_dim = output_dim\n",
        "        self.hid_dim = hid_dim\n",
        "        self.n_layers = n_layers\n",
        "        \n",
        "        self.embedding = nn.Embedding(output_dim, emb_dim)\n",
        "        \n",
        "        self.rnn = nn.LSTM(emb_dim, hid_dim, n_layers, dropout = dropout)\n",
        "        \n",
        "        self.fc_out = nn.Linear(hid_dim, output_dim)\n",
        "        \n",
        "        self.dropout = nn.Dropout(dropout)\n",
        "        \n",
        "    def forward(self, input, hidden, cell):\n",
        "        \n",
        "        #input = [batch size]\n",
        "        #hidden = [n layers * n directions, batch size, hid dim]\n",
        "        #cell = [n layers * n directions, batch size, hid dim]\n",
        "        \n",
        "        #n directions in the decoder will both always be 1, therefore:\n",
        "        #hidden = [n layers, batch size, hid dim]\n",
        "        #context = [n layers, batch size, hid dim]\n",
        "        \n",
        "        input = input.unsqueeze(0)\n",
        "        \n",
        "        #input = [1, batch size]\n",
        "        \n",
        "        embedded = self.dropout(self.embedding(input))\n",
        "        \n",
        "        #embedded = [1, batch size, emb dim]\n",
        "                \n",
        "        output, (hidden, cell) = self.rnn(embedded, (hidden, cell))\n",
        "        \n",
        "        #output = [seq len, batch size, hid dim * n directions]\n",
        "        #hidden = [n layers * n directions, batch size, hid dim]\n",
        "        #cell = [n layers * n directions, batch size, hid dim]\n",
        "        \n",
        "        #seq len and n directions will always be 1 in the decoder, therefore:\n",
        "        #output = [1, batch size, hid dim]\n",
        "        #hidden = [n layers, batch size, hid dim]\n",
        "        #cell = [n layers, batch size, hid dim]\n",
        "        \n",
        "        prediction = self.fc_out(output.squeeze(0))\n",
        "        #print(prediction)\n",
        "        \n",
        "        #prediction = [batch size, output dim]\n",
        "        \n",
        "        return prediction, hidden, cell"
      ],
      "execution_count": null,
      "outputs": []
    },
    {
      "cell_type": "code",
      "metadata": {
        "id": "yKehKGXdnQUu"
      },
      "source": [
        "class Seq2Seq(nn.Module):\n",
        "    def __init__(self, encoder, decoder, device):\n",
        "        super().__init__()\n",
        "        \n",
        "        self.encoder = encoder\n",
        "        self.decoder = decoder\n",
        "        self.device = device\n",
        "        \n",
        "        assert encoder.hid_dim == decoder.hid_dim, \\\n",
        "            \"Hidden dimensions of encoder and decoder must be equal!\"\n",
        "        assert encoder.n_layers == decoder.n_layers, \\\n",
        "            \"Encoder and decoder must have equal number of layers!\"\n",
        "        \n",
        "    def forward(self, src, trg, teacher_forcing_ratio = 0.5):\n",
        "        \n",
        "        #src = [src len, batch size]\n",
        "        #trg = [trg len, batch size]\n",
        "        #teacher_forcing_ratio is probability to use teacher forcing\n",
        "        #e.g. if teacher_forcing_ratio is 0.75 we use ground-truth inputs 75% of the time\n",
        "        \n",
        "        batch_size = trg.shape[1]\n",
        "        trg_len = trg.shape[0]\n",
        "        trg_vocab_size = self.decoder.output_dim\n",
        "        \n",
        "        #tensor to store decoder outputs\n",
        "        outputs = torch.zeros(trg_len, batch_size, trg_vocab_size).to(self.device)\n",
        "        \n",
        "        #last hidden state of the encoder is used as the initial hidden state of the decoder\n",
        "        hidden, cell = self.encoder(src)\n",
        "        \n",
        "        #first input to the decoder is the <sos> tokens\n",
        "        input = trg[0,:]\n",
        "        \n",
        "        for t in range(1, trg_len):\n",
        "            \n",
        "            #insert input token embedding, previous hidden and previous cell states\n",
        "            #receive output tensor (predictions) and new hidden and cell states\n",
        "            output, hidden, cell = self.decoder(input, hidden, cell)\n",
        "            \n",
        "            #place predictions in a tensor holding predictions for each token\n",
        "            outputs[t] = output\n",
        "            \n",
        "            #decide if we are going to use teacher forcing or not\n",
        "            teacher_force = random.random() < teacher_forcing_ratio\n",
        "            \n",
        "            #get the highest predicted token from our predictions\n",
        "            top1 = output.argmax(1) \n",
        "            \n",
        "            #if teacher forcing, use actual next token as next input\n",
        "            #if not, use predicted token\n",
        "            input = trg[t] if teacher_force else top1\n",
        "        \n",
        "        return outputs"
      ],
      "execution_count": null,
      "outputs": []
    },
    {
      "cell_type": "code",
      "metadata": {
        "id": "Uw38HjTsgY7M"
      },
      "source": [
        "INPUT_DIM = len(inp_fields.vocab)\n",
        "OUTPUT_DIM = len(out_fields.vocab)\n",
        "ENC_EMB_DIM = 256\n",
        "DEC_EMB_DIM = 256\n",
        "HID_DIM = 512\n",
        "N_LAYERS = 5\n",
        "ENC_DROPOUT = 0.3\n",
        "DEC_DROPOUT = 0.3\n",
        "\n",
        "enc = Encoder(INPUT_DIM, ENC_EMB_DIM, HID_DIM, N_LAYERS, ENC_DROPOUT)\n",
        "dec = Decoder(OUTPUT_DIM, DEC_EMB_DIM, HID_DIM, N_LAYERS, DEC_DROPOUT)\n",
        "\n",
        "#print(dec)\n",
        "\n",
        "model = Seq2Seq(enc, dec, device).to(device)"
      ],
      "execution_count": null,
      "outputs": []
    },
    {
      "cell_type": "code",
      "metadata": {
        "colab": {
          "base_uri": "https://localhost:8080/"
        },
        "id": "-WgIpBM2n-vV",
        "outputId": "d974765c-765f-4f80-b610-3dc815ec07ad"
      },
      "source": [
        "\n",
        "def init_weights(m):\n",
        "    for name, param in m.named_parameters():\n",
        "        nn.init.uniform_(param.data, -0.08, 0.08)\n",
        "        \n",
        "model.apply(init_weights)"
      ],
      "execution_count": null,
      "outputs": [
        {
          "data": {
            "text/plain": [
              "Seq2Seq(\n",
              "  (encoder): Encoder(\n",
              "    (embedding): Embedding(3366, 256)\n",
              "    (rnn): LSTM(256, 512, num_layers=5, dropout=0.3)\n",
              "    (dropout): Dropout(p=0.3, inplace=False)\n",
              "  )\n",
              "  (decoder): Decoder(\n",
              "    (embedding): Embedding(1245, 256)\n",
              "    (rnn): LSTM(256, 512, num_layers=5, dropout=0.3)\n",
              "    (fc_out): Linear(in_features=512, out_features=1245, bias=True)\n",
              "    (dropout): Dropout(p=0.3, inplace=False)\n",
              "  )\n",
              ")"
            ]
          },
          "execution_count": 133,
          "metadata": {},
          "output_type": "execute_result"
        }
      ]
    },
    {
      "cell_type": "code",
      "metadata": {
        "colab": {
          "base_uri": "https://localhost:8080/"
        },
        "id": "MKlbxaJGoD0D",
        "outputId": "6f958b0f-bbfd-496d-eddf-8f16410bb202"
      },
      "source": [
        "def count_parameters(model):\n",
        "    return sum(p.numel() for p in model.parameters() if p.requires_grad)\n",
        "\n",
        "print(f'The model has {count_parameters(model):,} trainable parameters')"
      ],
      "execution_count": null,
      "outputs": [
        {
          "name": "stdout",
          "output_type": "stream",
          "text": [
            "The model has 21,783,005 trainable parameters\n"
          ]
        }
      ]
    },
    {
      "cell_type": "code",
      "metadata": {
        "id": "LjLu8a0moR5K"
      },
      "source": [
        "optimizer = torch.optim.Adam(model.parameters())\n",
        "TRG_PAD_IDX = inp_fields.vocab.stoi[inp_fields.pad_token]\n",
        "\n",
        "criterion = nn.CrossEntropyLoss(ignore_index = TRG_PAD_IDX)"
      ],
      "execution_count": null,
      "outputs": []
    },
    {
      "cell_type": "code",
      "metadata": {
        "id": "_uC6fc2noqj6"
      },
      "source": [
        "def train(epoch, model, iterator, optimizer, criterion, clip):\n",
        "    #epoch, model, optimizer = load_checkpoint(PATH, model, optimizer)\n",
        "\n",
        "    model.train()\n",
        "    \n",
        "    epoch_loss = 0\n",
        "    \n",
        "    for i, batch in enumerate(iterator):\n",
        "        \n",
        "        src = batch.text.to(device)\n",
        "        #print(src.shape)\n",
        "        \n",
        "        trg = batch.label.to(device)\n",
        "        #print(trg.shape)\n",
        "        \n",
        "        optimizer.zero_grad()\n",
        "        \n",
        "        output = model(src, trg)\n",
        "        \n",
        "        #trg = [trg len, batch size]\n",
        "        #output = [trg len, batch size, output dim]\n",
        "        \n",
        "        output_dim = output.shape[-1]\n",
        "        \n",
        "        output = output[1:].view(-1, output_dim)\n",
        "        trg = trg[1:].view(-1)\n",
        "        \n",
        "        #trg = [(trg len - 1) * batch size]\n",
        "        #output = [(trg len - 1) * batch size, output dim]\n",
        "        #print(output, trg)\n",
        "        \n",
        "        loss = criterion(output, trg)\n",
        "        \n",
        "        loss.backward()\n",
        "        \n",
        "        torch.nn.utils.clip_grad_norm_(model.parameters(), clip)\n",
        "        \n",
        "        optimizer.step()\n",
        "        \n",
        "        epoch_loss += loss.item()\n",
        "    \n",
        "    checkpoint = {\"state_dict\" : model.state_dict(), \"optimizer\" : optimizer.state_dict(), 'epoch' : epoch}\n",
        "    save_checkpoint(checkpoint)\n",
        "        \n",
        "    return epoch_loss / len(iterator)"
      ],
      "execution_count": null,
      "outputs": []
    },
    {
      "cell_type": "code",
      "metadata": {
        "id": "NjfbigdjWopa"
      },
      "source": [
        "def batchify(data: Tensor, bsz: int) -> Tensor:\n",
        "    \"\"\"Divides the data into bsz separate sequences, removing extra elements\n",
        "    that wouldn't cleanly fit.\n",
        "\n",
        "    Args:\n",
        "        data: Tensor, shape [N]\n",
        "        bsz: int, batch size\n",
        "\n",
        "    Returns:\n",
        "        Tensor of shape [N // bsz, bsz]\n",
        "    \"\"\"\n",
        "    seq_len = data.size(0) // bsz\n",
        "    data = data[:seq_len * bsz]\n",
        "    data = data.view(bsz, seq_len).t().contiguous()\n",
        "    return data.to(device)"
      ],
      "execution_count": null,
      "outputs": []
    },
    {
      "cell_type": "code",
      "metadata": {
        "id": "woNef816cAaf"
      },
      "source": [
        "bptt = 35\n",
        "from typing import Tuple\n",
        "def get_batch(source: Tensor, i: int) -> Tuple[Tensor, Tensor]:\n",
        "    \"\"\"\n",
        "    Args:\n",
        "        source: Tensor, shape [full_seq_len, batch_size]\n",
        "        i: int\n",
        "\n",
        "    Returns:\n",
        "        tuple (data, target), where data has shape [seq_len, batch_size] and\n",
        "        target has shape [seq_len * batch_size]\n",
        "    \"\"\"\n",
        "    seq_len = min(bptt, len(source) - 1 - i)\n",
        "    data = source[i:i+seq_len]\n",
        "    target = source[i+1:i+1+seq_len].reshape(-1)\n",
        "    return data, target"
      ],
      "execution_count": null,
      "outputs": []
    },
    {
      "cell_type": "code",
      "metadata": {
        "id": "_Fg_NNzEU_vo"
      },
      "source": [
        "def Persuasive_sentence(model, sentence, input, per_out, device, max_length=50):\n",
        "\n",
        "    # Create tokens using spacy and everything in lower case (which is what our vocab is)\n",
        "    if type(sentence) == str:\n",
        "        tokens = [token.text for token in eng(sentence)]\n",
        "    else:\n",
        "        tokens = [token for token in sentence]\n",
        "\n",
        "    # Add <SOS> and <EOS> in beginning and end respectively\n",
        "    tokens.insert(0, input.init_token)\n",
        "    tokens.append(input.eos_token)\n",
        "\n",
        "    # Go through each german token and convert to an index\n",
        "    text_to_indices = [input.vocab.stoi[token] for token in tokens]\n",
        "\n",
        "    # Convert to Tensor\n",
        "    sentence_tensor = torch.LongTensor(text_to_indices).to(device).reshape(1,-1).t()\n",
        "    print(sentence_tensor.shape) #->67\n",
        "    #sentence_tensor = batchify(sentence_tensor, 67)\n",
        "    #print(sentence_tensor.shape)\n",
        "    \n",
        "\n",
        "    outputs = [per_out.vocab.stoi[\"<sos>\"]]\n",
        "    for i in range(max_length):\n",
        "        trg_tensor = torch.LongTensor(outputs).unsqueeze(1).to(device)\n",
        "        print(trg_tensor.shape)\n",
        "        #data, targ = get_batch(sentence_tensor, 0)\n",
        "        #print(data.shape, targ.shape)\n",
        "\n",
        "        with torch.no_grad():\n",
        "            output = model(sentence_tensor, trg_tensor)\n",
        "            #output = model(data, targ)\n",
        "\n",
        "        best_guess = output.argmax(2)[-1, :].item()\n",
        "        outputs.append(best_guess)\n",
        "\n",
        "        if best_guess == per_out.vocab.stoi[\"<eos>\"]:\n",
        "            break\n",
        "\n",
        "    translated_sentence = [per_out.vocab.itos[idx] for idx in outputs]\n",
        "    # remove start token\n",
        "    return translated_sentence[1:]"
      ],
      "execution_count": null,
      "outputs": []
    },
    {
      "cell_type": "code",
      "metadata": {
        "id": "rF4Qf4KBow8B"
      },
      "source": [
        "def evaluate(model, iterator, criterion):\n",
        "    \n",
        "    model.eval()\n",
        "    \n",
        "    epoch_loss = 0\n",
        "    \n",
        "    with torch.no_grad():\n",
        "    \n",
        "        for i, batch in enumerate(iterator):\n",
        "\n",
        "            src = batch.text.to(device)\n",
        "            trg = batch.label.to(device)\n",
        "\n",
        "            output = model(src, trg, 0) #turn off teacher forcing\n",
        "\n",
        "            #trg = [trg len, batch size]\n",
        "            #output = [trg len, batch size, output dim]\n",
        "\n",
        "            output_dim = output.shape[-1]\n",
        "            \n",
        "            output = output[1:].view(-1, output_dim)\n",
        "            trg = trg[1:].view(-1)\n",
        "\n",
        "            #trg = [(trg len - 1) * batch size]\n",
        "            #output = [(trg len - 1) * batch size, output dim]\n",
        "            #print(output)\n",
        "\n",
        "            loss = criterion(output, trg)\n",
        "            \n",
        "            epoch_loss += loss.item()\n",
        "        \n",
        "    return epoch_loss / len(iterator)"
      ],
      "execution_count": null,
      "outputs": []
    },
    {
      "cell_type": "code",
      "metadata": {
        "id": "dqrA4Q9Oo1ob"
      },
      "source": [
        "def epoch_time(start_time, end_time):\n",
        "    elapsed_time = end_time - start_time\n",
        "    elapsed_mins = int(elapsed_time / 60)\n",
        "    elapsed_secs = int(elapsed_time - (elapsed_mins * 60))\n",
        "    return elapsed_mins, elapsed_secs"
      ],
      "execution_count": null,
      "outputs": []
    },
    {
      "cell_type": "code",
      "metadata": {
        "id": "NpyzPwtv0v3w"
      },
      "source": [
        "path = %pwd\n",
        "PATH = os.path.join(path, 'my_checkpointseq.pth.tar')\n",
        "\n",
        "def save_checkpoint(state, filename=\"my_checkpointseq.pth.tar\"):\n",
        "    print(\"=> Saving checkpoint\")\n",
        "    torch.save(state, filename)\n",
        "\n",
        "\n",
        "def load_checkpoint(PATH, model, optimizer):\n",
        "    print(\"=> Loading checkpoint\")\n",
        "    checkpoint = torch.load(PATH)\n",
        "    model.load_state_dict(checkpoint[\"state_dict\"])\n",
        "    optimizer.load_state_dict(checkpoint[\"optimizer\"])\n",
        "    epoch = checkpoint['epoch']\n",
        "    return epoch, model, optimizer"
      ],
      "execution_count": null,
      "outputs": []
    },
    {
      "cell_type": "code",
      "metadata": {
        "colab": {
          "background_save": true,
          "base_uri": "https://localhost:8080/"
        },
        "id": "zggmqVaho_JU",
        "outputId": "00b08275-e3f8-42f0-a4ee-d8e2d2fc4d0d"
      },
      "source": [
        "import time\n",
        "import math \n",
        "\n",
        "N_EPOCHS = 15\n",
        "CLIP = 1\n",
        "\n",
        "test_loss_l = []\n",
        "\n",
        "best_valid_loss = float('inf')\n",
        "\n",
        "sepoch = 0\n",
        "\n",
        "#sepoch, model, optimizer = load_checkpoint(PATH, model, optimizer)\n",
        "\n",
        "for epoch in range(sepoch, N_EPOCHS):\n",
        "    \n",
        "    start_time = time.time()\n",
        "    \n",
        "    train_loss = train(epoch, model, train_itr, optimizer, criterion, CLIP)\n",
        "    writer.add_scalar(\"Training loss\", train_loss, global_step=epoch)\n",
        "    valid_loss = evaluate(model, test_itr, criterion)\n",
        "    writer.add_scalar(\"Validation loss\", valid_loss, global_step=epoch)\n",
        "    test_loss_l.append(valid_loss)\n",
        "    \n",
        "    end_time = time.time()\n",
        "    \n",
        "    epoch_mins, epoch_secs = epoch_time(start_time, end_time)\n",
        "    \n",
        "    if valid_loss < best_valid_loss:\n",
        "        best_valid_loss = valid_loss\n",
        "        torch.save(model.state_dict(), 'tut1-model.pt')\n",
        "    \n",
        "    print(f'Epoch: {epoch+1:02} | Time: {epoch_mins}m {epoch_secs}s')\n",
        "    print(f'\\tTrain Loss: {train_loss:.3f} | Train PPL: {math.exp(train_loss):7.3f}')\n",
        "    print(f'\\t Val. Loss: {valid_loss:.3f} |  Val. PPL: {math.exp(valid_loss):7.3f}')"
      ],
      "execution_count": null,
      "outputs": [
        {
          "name": "stdout",
          "output_type": "stream",
          "text": [
            "=> Saving checkpoint\n",
            "Epoch: 01 | Time: 5m 41s\n",
            "\tTrain Loss: 4.619 | Train PPL: 101.376\n",
            "\t Val. Loss: 4.481 |  Val. PPL:  88.351\n",
            "=> Saving checkpoint\n",
            "Epoch: 02 | Time: 5m 39s\n",
            "\tTrain Loss: 4.225 | Train PPL:  68.374\n",
            "\t Val. Loss: 4.539 |  Val. PPL:  93.554\n",
            "=> Saving checkpoint\n",
            "Epoch: 03 | Time: 5m 39s\n",
            "\tTrain Loss: 3.789 | Train PPL:  44.193\n",
            "\t Val. Loss: 5.421 |  Val. PPL: 226.101\n",
            "=> Saving checkpoint\n",
            "Epoch: 04 | Time: 5m 39s\n",
            "\tTrain Loss: 3.045 | Train PPL:  21.018\n",
            "\t Val. Loss: 6.462 |  Val. PPL: 640.267\n",
            "=> Saving checkpoint\n",
            "Epoch: 05 | Time: 5m 39s\n",
            "\tTrain Loss: 2.475 | Train PPL:  11.886\n",
            "\t Val. Loss: 7.415 |  Val. PPL: 1661.349\n",
            "=> Saving checkpoint\n",
            "Epoch: 06 | Time: 5m 38s\n",
            "\tTrain Loss: 2.140 | Train PPL:   8.503\n",
            "\t Val. Loss: 6.971 |  Val. PPL: 1065.267\n",
            "=> Saving checkpoint\n",
            "Epoch: 07 | Time: 5m 38s\n",
            "\tTrain Loss: 1.925 | Train PPL:   6.855\n",
            "\t Val. Loss: 8.144 |  Val. PPL: 3441.632\n",
            "=> Saving checkpoint\n",
            "Epoch: 08 | Time: 5m 38s\n",
            "\tTrain Loss: 1.785 | Train PPL:   5.962\n",
            "\t Val. Loss: 8.439 |  Val. PPL: 4625.737\n",
            "=> Saving checkpoint\n",
            "Epoch: 09 | Time: 5m 38s\n",
            "\tTrain Loss: 1.689 | Train PPL:   5.412\n",
            "\t Val. Loss: 8.220 |  Val. PPL: 3712.879\n",
            "=> Saving checkpoint\n",
            "Epoch: 10 | Time: 5m 39s\n",
            "\tTrain Loss: 1.572 | Train PPL:   4.815\n",
            "\t Val. Loss: 8.308 |  Val. PPL: 4054.357\n",
            "=> Saving checkpoint\n",
            "Epoch: 11 | Time: 5m 39s\n",
            "\tTrain Loss: 1.507 | Train PPL:   4.513\n",
            "\t Val. Loss: 7.981 |  Val. PPL: 2923.530\n",
            "=> Saving checkpoint\n",
            "Epoch: 12 | Time: 5m 39s\n",
            "\tTrain Loss: 1.448 | Train PPL:   4.257\n",
            "\t Val. Loss: 7.894 |  Val. PPL: 2680.378\n",
            "=> Saving checkpoint\n",
            "Epoch: 13 | Time: 5m 39s\n",
            "\tTrain Loss: 1.383 | Train PPL:   3.987\n",
            "\t Val. Loss: 8.409 |  Val. PPL: 4486.853\n",
            "=> Saving checkpoint\n",
            "Epoch: 14 | Time: 5m 39s\n",
            "\tTrain Loss: 1.352 | Train PPL:   3.864\n",
            "\t Val. Loss: 8.594 |  Val. PPL: 5397.737\n",
            "=> Saving checkpoint\n",
            "Epoch: 15 | Time: 5m 39s\n",
            "\tTrain Loss: 1.301 | Train PPL:   3.672\n",
            "\t Val. Loss: 9.082 |  Val. PPL: 8794.049\n"
          ]
        }
      ]
    },
    {
      "cell_type": "code",
      "metadata": {
        "colab": {
          "background_save": true
        },
        "id": "2gQJGN3cRtXS",
        "outputId": "f14416cb-3fd1-4768-f862-da5bc47c7eae"
      },
      "source": [
        "model.load_state_dict(torch.load('tut1-model.pt'))\n",
        "\n",
        "test_loss = evaluate(model, test_itr, criterion)\n",
        "\n",
        "print(f'| Test Loss: {test_loss:.3f} | Test PPL: {math.exp(test_loss):7.3f} |')"
      ],
      "execution_count": null,
      "outputs": [
        {
          "name": "stdout",
          "output_type": "stream",
          "text": [
            "| Test Loss: 4.481 | Test PPL:  88.351 |\n"
          ]
        }
      ]
    },
    {
      "cell_type": "code",
      "metadata": {
        "colab": {
          "background_save": true
        },
        "id": "aDXy8EDCS8Rw",
        "outputId": "6a09a8b1-71b1-490b-97cb-d611fba15ee2"
      },
      "source": [
        "import matplotlib.pyplot as plt\n",
        "\n",
        "plt.plot(range(N_EPOCHS), test_loss_l)\n",
        "plt.xlabel('')"
      ],
      "execution_count": null,
      "outputs": [
        {
          "data": {
            "text/plain": [
              "Text(0.5, 0, '')"
            ]
          },
          "execution_count": null,
          "metadata": {},
          "output_type": "execute_result"
        },
        {
          "data": {
            "image/png": "[encoded data removed]",
            "text/plain": [
              "<Figure size 432x288 with 1 Axes>"
            ]
          },
          "metadata": {},
          "output_type": "display_data"
        }
      ]
    },
    {
      "cell_type": "code",
      "metadata": {
        "colab": {
          "background_save": true
        },
        "id": "bhVKj-HcEeE5"
      },
      "source": [
        "def bleu(data, model, german, english, device):\n",
        "    targets = []\n",
        "    outputs = []\n",
        "\n",
        "    for example in data:\n",
        "        src = vars(example)[\"text\"]\n",
        "        trg = vars(example)[\"label\"]\n",
        "\n",
        "        prediction = Persuasive_sentence(model, src, german, english, device)\n",
        "        prediction = prediction[:-1]  # remove <eos> token\n",
        "\n",
        "        targets.append([trg])\n",
        "        outputs.append(prediction)\n",
        "\n",
        "    return bleu_score(outputs, targets)"
      ],
      "execution_count": null,
      "outputs": []
    },
    {
      "cell_type": "code",
      "metadata": {
        "colab": {
          "background_save": true
        },
        "id": "4DQQ2o3_GeRJ",
        "outputId": "3f2c889b-63bf-42dd-a517-6fe937705170"
      },
      "source": [
        "model.eval()\n",
        "print(inputs[3])\n",
        "print(Persuasive_sentence(model, inputs[3], inp_fields, out_fields, device, max_length=50))"
      ],
      "execution_count": null,
      "outputs": [
        {
          "name": "stdout",
          "output_type": "stream",
          "text": [
            "Dusty Pink Embroidered Semi - Stitched Lehenga & amp ; Unstitched Blouse With Dupatta SHUBHKALA Dusty pink embroidered lehenga choli with dupatta Dusty pink embroidered unstitched blouse with beaded detail Dusty pink embroidered semi - stitched lehenga with beaded detail , has drawstring and concealed zip closure , flared hem , and an attached lining Dusty pink embroidered dupatta Material : Viscose Rayon Dry Clean\n",
            "torch.Size([67, 1])\n",
            "torch.Size([1, 1])\n",
            "torch.Size([2, 1])\n",
            "torch.Size([3, 1])\n",
            "torch.Size([4, 1])\n",
            "torch.Size([5, 1])\n",
            "torch.Size([6, 1])\n",
            "torch.Size([7, 1])\n",
            "torch.Size([8, 1])\n",
            "torch.Size([9, 1])\n",
            "torch.Size([10, 1])\n",
            "torch.Size([11, 1])\n",
            "torch.Size([12, 1])\n",
            "torch.Size([13, 1])\n",
            "torch.Size([14, 1])\n",
            "torch.Size([15, 1])\n",
            "torch.Size([16, 1])\n",
            "torch.Size([17, 1])\n",
            "torch.Size([18, 1])\n",
            "torch.Size([19, 1])\n",
            "torch.Size([20, 1])\n",
            "torch.Size([21, 1])\n",
            "torch.Size([22, 1])\n",
            "torch.Size([23, 1])\n",
            "torch.Size([24, 1])\n",
            "torch.Size([25, 1])\n",
            "torch.Size([26, 1])\n",
            "torch.Size([27, 1])\n",
            "torch.Size([28, 1])\n",
            "torch.Size([29, 1])\n",
            "torch.Size([30, 1])\n",
            "torch.Size([31, 1])\n",
            "torch.Size([32, 1])\n",
            "torch.Size([33, 1])\n",
            "['<unk>', 'This', 'your', 'and', 'with', 'this', 'this', 'with', 'this', 'kurta', 'kurta', 'from', 'from', '.', '.', '.', 'your', 'your', 'with', 'with', 'with', 'this', 'this', 'this', 'and', 'a', 'with', 'with', 'with', 'and', 'and', 'and', '<eos>']\n"
          ]
        }
      ]
    },
    {
      "cell_type": "code",
      "metadata": {
        "id": "5_kTMh0AaMQI"
      },
      "source": [
        "score = bleu(test_data[1:100], model, inp_fields, out_fields, device)\n",
        "print(f\"Bleu score {score*100:.2f}\")"
      ],
      "execution_count": null,
      "outputs": []
    },
    {
      "cell_type": "code",
      "metadata": {
        "id": "_G_NqHAacvBN"
      },
      "source": [
        ""
      ],
      "execution_count": null,
      "outputs": []
    }
  ]
}